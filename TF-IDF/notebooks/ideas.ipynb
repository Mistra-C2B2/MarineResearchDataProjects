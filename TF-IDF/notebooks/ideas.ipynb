{
 "cells": [
  {
   "cell_type": "markdown",
   "id": "8e7338e1",
   "metadata": {},
   "source": [
    "# Swedish marine data collection projects "
   ]
  },
  {
   "cell_type": "markdown",
   "id": "5f3b906e",
   "metadata": {},
   "source": [
    "## First question to ask is how do we define marine data collection?"
   ]
  },
  {
   "cell_type": "markdown",
   "id": "91ddc366",
   "metadata": {},
   "source": [
    "Are all the following subjects classified as marine data collection?\n",
    "\n",
    "\n",
    "#### Oceanography:\n",
    "\n",
    "Physical Oceanography: Studying physical properties of the ocean, such as temperature, salinity, currents, and waves.\n",
    "\n",
    "Chemical Oceanography: Investigating the chemical composition of seawater, including nutrient levels, dissolved gases, and pollutants.\n",
    "\n",
    "#### Biological Research:\n",
    "\n",
    "Marine Biology: Studying marine organisms, their behavior, population dynamics, and ecological interactions.\n",
    "\n",
    "Fisheries Research: Assessing fish populations, migration patterns, and the impact of fishing activities on marine ecosystems.\n",
    "\n",
    "#### Environmental Monitoring:\n",
    "\n",
    "Pollution Studies: Monitoring and assessing the levels of pollutants in marine environments, including oil spills, plastic pollution, and chemical contaminants.\n",
    "\n",
    "Habitat Mapping: Mapping and monitoring changes in marine habitats, such as coral reefs, seagrasses, and mangroves.\n",
    "\n",
    "#### Climate Change Impact Studies:\n",
    "\n",
    "Sea Level Rise: Investigating the effects of climate change on sea level rise and its impact on coastal areas.\n",
    "\n",
    "Ocean Acidification: Studying the effects of increased carbon dioxide absorption by the oceans.\n",
    "\n",
    "#### Technological Advances:\n",
    "\n",
    "Remote Sensing: Using satellite and other remote sensing technologies to collect data on ocean conditions and marine life.\n",
    "\n",
    "Underwater Robotics: Deploying autonomous underwater vehicles (AUVs) and remotely operated vehicles (ROVs) for deep-sea exploration and data collection.\n",
    "\n",
    "#### Biodiversity and Conservation:\n",
    "\n",
    "Biodiversity Surveys: Assessing the diversity of marine species in different regions.\n",
    "\n",
    "Conservation Strategies: Developing strategies to protect endangered marine species and ecosystems.\n",
    "\n",
    "### Human Impact Studies:\n",
    "\n",
    "Coastal Development Impact: Investigating the impact of human activities such as coastal development, shipping, and tourism on marine ecosystems.\n",
    "\n",
    "Overfishing Studies: Assessing the sustainability of fishing practices and their impact on marine resources.\n",
    "\n",
    "#### Data Integration and Modeling:\n",
    "\n",
    "Integrated Data Analysis: Integrating data from various sources to create comprehensive models of marine ecosystems.\n",
    "\n",
    "Predictive Modeling: Using models to predict future changes in marine environments based on current trends and scenarios.\n",
    "        "
   ]
  },
  {
   "cell_type": "markdown",
   "id": "65b3faad",
   "metadata": {},
   "source": [
    "## Ideas to tackle the problem "
   ]
  },
  {
   "cell_type": "markdown",
   "id": "2c97db8c",
   "metadata": {},
   "source": [
    "1) Get all projects at once roughly 280 Mb of data no prior general filtering "
   ]
  },
  {
   "cell_type": "markdown",
   "id": "1335793d",
   "metadata": {},
   "source": [
    "2) Get data by searching for projects with project ID. Do this step manually using Standard för svensk indelning av forskningsämnen. Use this as general filter start with other techniques "
   ]
  },
  {
   "cell_type": "markdown",
   "id": "c88485f5",
   "metadata": {},
   "source": [
    "Attacking the problem once we have the big json file that contains (filtered or not filtered at all) all projects we can do it as:"
   ]
  },
  {
   "cell_type": "markdown",
   "id": "7ad17c55",
   "metadata": {},
   "source": [
    "1) \n",
    "-Using tokenization, lemmatization, key word matching to get all text dat in same format\n",
    "-Define a dictionary with words that are of interest give them different weighs and for each project rate them applying this dictionary (which is doing keyword matching).\n",
    "\n",
    "-We can annotate some projects being about marine data collection and get similarity of the annotated data with other data."
   ]
  },
  {
   "cell_type": "markdown",
   "id": "45c13edc",
   "metadata": {},
   "source": [
    "2) Topic modelling techniques \n",
    "-Latent dirichlet allocation\n",
    "-Word embeddings etc\n",
    "-Non-Negative Matrix Factorization (NMF)"
   ]
  },
  {
   "cell_type": "code",
   "execution_count": null,
   "id": "3d82b3f1",
   "metadata": {},
   "outputs": [],
   "source": []
  }
 ],
 "metadata": {
  "kernelspec": {
   "display_name": "Python 3 (ipykernel)",
   "language": "python",
   "name": "python3"
  },
  "language_info": {
   "codemirror_mode": {
    "name": "ipython",
    "version": 3
   },
   "file_extension": ".py",
   "mimetype": "text/x-python",
   "name": "python",
   "nbconvert_exporter": "python",
   "pygments_lexer": "ipython3",
   "version": "3.9.12"
  }
 },
 "nbformat": 4,
 "nbformat_minor": 5
}
